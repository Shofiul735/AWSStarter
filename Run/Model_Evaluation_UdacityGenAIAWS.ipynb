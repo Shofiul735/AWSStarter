{
 "cells": [
  {
   "cell_type": "markdown",
   "metadata": {},
   "source": [
    "#### Step 3: LLM Model Evaluation"
   ]
  },
  {
   "cell_type": "markdown",
   "metadata": {},
   "source": [
    "In this notebook, you'll deploy the Meta Llama 2 7B model and evaluate it's text generation capabilities and domain knowledge. You'll use the SageMaker Python SDK for Foundation Models and deploy the model for inference. \n",
    "\n",
    "The Llama 2 7B Foundation model performs the task of text generation. It takes a text string as input and predicts next words in the sequence. "
   ]
  },
  {
   "cell_type": "markdown",
   "metadata": {},
   "source": [
    "#### Set Up\n",
    "There are some initial steps required for setup. If you recieve warnings after running these cells, you can ignore them as they won't impact the code running in the notebook. Run the cell below to ensure you're using the latest version of the Sagemaker Python client library. Restart the Kernel after you run this cell. "
   ]
  },
  {
   "cell_type": "code",
   "execution_count": 1,
   "metadata": {
    "tags": []
   },
   "outputs": [],
   "source": [
    "!pip install ipywidgets==7.0.0 --quiet\n",
    "!pip install --upgrade sagemaker datasets --quiet"
   ]
  },
  {
   "cell_type": "markdown",
   "metadata": {},
   "source": [
    "***! Restart the notebook kernel now after running the above cell and before you run any cells below !*** "
   ]
  },
  {
   "cell_type": "markdown",
   "metadata": {},
   "source": [
    "To deploy the model on Amazon Sagemaker, we need to setup and authenticate the use of AWS services. Yo'll uuse the execution role associated with the current notebook instance as the AWS account role with SageMaker access. Validate your role is the Sagemaker IAM role you created for the project by running the next cell. "
   ]
  },
  {
   "cell_type": "code",
   "execution_count": 2,
   "metadata": {
    "tags": []
   },
   "outputs": [
    {
     "name": "stdout",
     "output_type": "stream",
     "text": [
      "sagemaker.config INFO - Not applying SDK defaults from location: /etc/xdg/sagemaker/config.yaml\n",
      "sagemaker.config INFO - Not applying SDK defaults from location: /home/ec2-user/.config/sagemaker/config.yaml\n",
      "arn:aws:iam::769772714540:role/service-role/SageMaker-udacitySagemakerRole\n",
      "us-west-2\n",
      "<sagemaker.session.Session object at 0x7f07d9cc24d0>\n"
     ]
    }
   ],
   "source": [
    "import sagemaker, boto3, json\n",
    "from sagemaker.session import Session\n",
    "\n",
    "sagemaker_session = Session()\n",
    "aws_role = sagemaker_session.get_caller_identity_arn()\n",
    "aws_region = boto3.Session().region_name\n",
    "sess = sagemaker.Session()\n",
    "print(aws_role)\n",
    "print(aws_region)\n",
    "print(sess)"
   ]
  },
  {
   "cell_type": "code",
   "execution_count": 3,
   "metadata": {
    "tags": []
   },
   "outputs": [
    {
     "name": "stdout",
     "output_type": "stream",
     "text": [
      "['__class__', '__delattr__', '__dict__', '__dir__', '__doc__', '__eq__', '__format__', '__ge__', '__getattribute__', '__gt__', '__hash__', '__init__', '__init_subclass__', '__le__', '__lt__', '__module__', '__ne__', '__new__', '__reduce__', '__reduce_ex__', '__repr__', '__setattr__', '__sizeof__', '__str__', '__subclasshook__', '__weakref__', '_append_sagemaker_config_tags', '_config', '_create_inference_recommendations_job_request', '_create_model_request', '_create_s3_bucket_if_it_does_not_exist', '_default_bucket', '_default_bucket_name_override', '_default_bucket_set_by_sdk', '_gen_s3_model_data_source', '_get_auto_ml_request', '_get_auto_ml_request_v2', '_get_process_request', '_get_train_request', '_get_transform_request', '_get_tuning_request', '_get_update_training_job_request', '_inference_component_deletion_done', '_inference_component_done', '_initialize', '_intercept_create_request', '_map_training_config', '_map_tuning_config', '_map_tuning_objective', '_region_name', 'account_id', 'auto_ml', 'batch_get_record', 'boto_region_name', 'boto_session', 'compile_model', 'config', 'create_auto_ml_v2', 'create_bucket_for_not_exist_error', 'create_endpoint', 'create_endpoint_config', 'create_endpoint_config_from_existing', 'create_feature_group', 'create_group', 'create_hub', 'create_hub_content_reference', 'create_inference_component', 'create_inference_recommendations_job', 'create_model', 'create_model_from_job', 'create_model_package_from_algorithm', 'create_model_package_from_containers', 'create_monitoring_schedule', 'create_presigned_mlflow_tracking_server_url', 'create_tuning_job', 'default_bucket', 'default_bucket_prefix', 'delete_endpoint', 'delete_endpoint_config', 'delete_feature_group', 'delete_hub', 'delete_hub_content_reference', 'delete_inference_component', 'delete_model', 'delete_monitoring_schedule', 'delete_record', 'delete_resource_group', 'describe_auto_ml_job', 'describe_auto_ml_job_v2', 'describe_endpoint', 'describe_feature_group', 'describe_feature_metadata', 'describe_hub', 'describe_hub_content', 'describe_inference_component', 'describe_model', 'describe_monitoring_schedule', 'describe_processing_job', 'describe_training_job', 'describe_transform_job', 'describe_tuning_job', 'download_athena_query_result', 'download_data', 'endpoint_arn', 'endpoint_from_job', 'endpoint_from_model_data', 'endpoint_from_production_variants', 'endpoint_in_service_or_not', 'expand_role', 'expected_bucket_owner_id_bucket_check', 'general_bucket_check_if_user_has_permission', 'get_caller_identity_arn', 'get_query_execution', 'get_record', 'get_resource_group_query', 'get_tagging_resources', 'is_inference_component_based_endpoint', 'lambda_client', 'list_and_paginate_inference_component_names_associated_with_endpoint', 'list_candidates', 'list_feature_groups', 'list_group_resources', 'list_hub_content_versions', 'list_hub_contents', 'list_hubs', 'list_inference_components', 'list_monitoring_alert_history', 'list_monitoring_alerts', 'list_monitoring_executions', 'list_monitoring_schedules', 'list_s3_files', 'list_tags', 'local_mode', 'logs_for_auto_ml_job', 'logs_for_job', 'logs_for_processing_job', 'logs_for_transform_job', 'package_model_for_edge', 'process', 'put_record', 'read_s3_file', 'resource_group_tagging_client', 'resource_groups_client', 's3_client', 's3_resource', 'sagemaker_client', 'sagemaker_config', 'sagemaker_featurestore_runtime_client', 'sagemaker_metrics_client', 'sagemaker_runtime_client', 'search', 'settings', 'start_monitoring_schedule', 'start_query_execution', 'stop_monitoring_schedule', 'stop_processing_job', 'stop_training_job', 'stop_transform_job', 'stop_tuning_job', 'train', 'transform', 'tune', 'update_endpoint', 'update_feature_group', 'update_feature_metadata', 'update_inference_component', 'update_monitoring_alert', 'update_monitoring_schedule', 'update_training_job', 'upload_data', 'upload_string_as_file_body', 'wait_for_athena_query', 'wait_for_auto_ml_job', 'wait_for_compilation_job', 'wait_for_edge_packaging_job', 'wait_for_endpoint', 'wait_for_inference_component', 'wait_for_inference_component_deletion', 'wait_for_inference_recommendations_job', 'wait_for_job', 'wait_for_model_package', 'wait_for_processing_job', 'wait_for_transform_job', 'wait_for_tuning_job', 'was_processing_job_successful']\n"
     ]
    }
   ],
   "source": [
    "print(dir(sess))"
   ]
  },
  {
   "cell_type": "markdown",
   "metadata": {},
   "source": [
    "## 2. Select Text Generation Model Meta Llama 2 7B\n",
    "Run the next cell to set variables that contain the values of the name of the model we want to load and the version of the model ."
   ]
  },
  {
   "cell_type": "code",
   "execution_count": 4,
   "metadata": {
    "tags": []
   },
   "outputs": [],
   "source": [
    "(model_id, model_version,) = (\"meta-textgeneration-llama-2-7b\",\"2.*\",)"
   ]
  },
  {
   "cell_type": "markdown",
   "metadata": {},
   "source": [
    "Running the next cell deploys the model\n",
    "This Python code is used to deploy a machine learning model using Amazon SageMaker's JumpStart library. \n",
    "\n",
    "1. Import the `JumpStartModel` class from the `sagemaker.jumpstart.model` module.\n",
    "\n",
    "2. Create an instance of the `JumpStartModel` class using the `model_id` and `model_version` variables created in the previous cell. This object represents the machine learning model you want to deploy.\n",
    "\n",
    "3. Call the `deploy` method on the `JumpStartModel` instance. This method deploys the model on Amazon SageMaker and returns a `Predictor` object.\n",
    "\n",
    "The `Predictor` object (`predictor`) can be used to make predictions with the deployed model. The `deploy` method will automatically choose an endpoint name, instance type, and other deployment parameters. If you want to specify these parameters, you can pass them as arguments to the `deploy` method.\n",
    "\n",
    "**The next cell will take some time to run.**  It is deploying a large language model, and that takes time.  You'll see dashes (--) while it is being deployed.  Please be patient! You'll see an exclamation point at the end of the dashes (---!) when the model is deployed and then you can continue running the next cells.  \n",
    "\n",
    "You might see a warning \"For forward compatibility, pin to model_version...\" You can ignore this warning, just wait for the model to deploy. \n"
   ]
  },
  {
   "cell_type": "code",
   "execution_count": 5,
   "metadata": {
    "tags": []
   },
   "outputs": [
    {
     "name": "stderr",
     "output_type": "stream",
     "text": [
      "For forward compatibility, pin to model_version='2.*' in your JumpStartModel or JumpStartEstimator definitions. Note that major version upgrades may have different EULA acceptance terms and input/output signatures.\n",
      "Using vulnerable JumpStart model 'meta-textgeneration-llama-2-7b' and version '2.1.8'.\n",
      "Using model 'meta-textgeneration-llama-2-7b' with wildcard version identifier '2.*'. You can pin to version '2.1.8' for more stable results. Note that models may have different input/output signatures after a major version upgrade.\n"
     ]
    },
    {
     "name": "stdout",
     "output_type": "stream",
     "text": [
      "-----------------!"
     ]
    }
   ],
   "source": [
    "from sagemaker.jumpstart.model import JumpStartModel\n",
    "\n",
    "model = JumpStartModel(model_id=model_id, model_version=model_version, instance_type=\"ml.g5.2xlarge\")\n",
    "predictor = model.deploy()\n"
   ]
  },
  {
   "cell_type": "markdown",
   "metadata": {
    "tags": []
   },
   "source": [
    "#### Invoke the endpoint, query and parse response\n",
    "The next step is to invoke the model endpoint, send a query to the endpoint, and recieve a response from the model. \n",
    "\n",
    "Running the next cell defines a function that will be used to parse and print the response from the model. "
   ]
  },
  {
   "cell_type": "code",
   "execution_count": 6,
   "metadata": {
    "tags": []
   },
   "outputs": [],
   "source": [
    "def print_response(payload, response):\n",
    "    print(payload[\"inputs\"])\n",
    "    print(f\"> {response[0]['generation']}\")\n",
    "    print(\"\\n==================================\\n\")"
   ]
  },
  {
   "cell_type": "markdown",
   "metadata": {},
   "source": [
    "The model takes a text string as input and predicts next words in the sequence, the input we send it is the prompt. \n",
    "\n",
    "The prompt we send the model should relate to the domain we'd like to fine-tune the model on.  This way we'll identify the model's domain knowledge before it's fine-tuned, and then we can run the same prompts on the fine-tuned model.   \n",
    "\n",
    "**Replace \"inputs\"** in the next cell with the input to send the model based on the domain you've chosen. \n",
    "\n",
    "**For financial domain:**\n",
    "\n",
    "  \"inputs\": \"Replace with sentence below\"  \n",
    "- \"The  investment  tests  performed  indicate\"\n",
    "- \"the  relative  volume  for  the  long  out  of  the  money  options, indicates\"\n",
    "- \"The  results  for  the  short  in  the  money  options\"\n",
    "- \"The  results  are  encouraging  for  aggressive  investors\"\n",
    "\n",
    "**For medical domain:** \n",
    "\n",
    "  \"inputs\": \"Replace with sentence below\" \n",
    "- \"Myeloid neoplasms and acute leukemias derive from\"\n",
    "- \"Genomic characterization is essential for\"\n",
    "- \"Certain germline disorders may be associated with\"\n",
    "- \"In contrast to targeted approaches, genome-wide sequencing\"\n",
    "\n",
    "**For IT domain:** \n",
    "\n",
    "  \"inputs\": \"Replace with sentence below\" \n",
    "- \"Traditional approaches to data management such as\"\n",
    "- \"A second important aspect of ubiquitous computing environments is\"\n",
    "- \"because ubiquitous computing is intended to\" \n",
    "- \"outline the key aspects of ubiquitous computing from a data management perspective.\""
   ]
  },
  {
   "cell_type": "code",
   "execution_count": 10,
   "metadata": {
    "tags": []
   },
   "outputs": [
    {
     "name": "stdout",
     "output_type": "stream",
     "text": [
      "The investment tests performed indicate\n",
      ">  that the new SAS-based test is more efficient than the current test in terms of the number of tests required to achieve the same level of power. The SAS-based test is also more efficient than the current test in terms of the number of tests required to achieve the same level of false discovery rate.\n",
      "\n",
      "\n",
      "==================================\n",
      "\n",
      "the relative volume for the long out of the money options,indicates\n",
      ">  a higher level of activity.\n",
      "In the above chart,we can see that the relative volume for the short out of the money options is higher than the long out of the money options.\n",
      "This indicates a higher level of activity for the short out of the money options.\n",
      "In the above chart,we can see\n",
      "\n",
      "==================================\n",
      "\n",
      "The results for the short in the money options\n",
      ">  are shown in Table 3. The results for the long in the money options are shown in Table 4.\n",
      "Table 3: Short in the money options.\n",
      "Table 4: Long in the money options.\n",
      "The results for the short in the money options are shown in Table 3. The results\n",
      "\n",
      "==================================\n",
      "\n",
      "The results are encouraging for aggressive investors\n",
      ">  who want to get in on the ground floor of the next big thing.\n",
      "The top 100 cryptocurrencies by market cap\n",
      "Bitcoin (BTC) is currently the most valuable cryptocurrency, with a market cap of $227.6 billion. Ethereum (ET\n",
      "\n",
      "==================================\n",
      "\n"
     ]
    }
   ],
   "source": [
    "payload = {\n",
    "    \"inputs\": \"*\",\n",
    "    \"parameters\": {\n",
    "        \"max_new_tokens\": 64,\n",
    "        \"top_p\": 0.9,\n",
    "        \"temperature\": 0.6,\n",
    "        \"return_full_text\": False,\n",
    "    },\n",
    "}\n",
    "\n",
    "inputArray = ['The investment tests performed indicate',\n",
    "              'the relative volume for the long out of the money options,indicates',\n",
    "             'The results for the short in the money options',\n",
    "             f'The results are encouraging for aggressive investors']\n",
    "\n",
    "for text in inputArray:\n",
    "    payload[\"inputs\"] = text\n",
    "    try:\n",
    "        response = predictor.predict(payload, custom_attributes=\"accept_eula=true\")\n",
    "        print_response(payload, response)\n",
    "    except Exception as e:\n",
    "        print(e)"
   ]
  },
  {
   "cell_type": "markdown",
   "metadata": {},
   "source": [
    "The prompt is related to the domain you want to fine-tune your model on. You will see the outputs from the model without fine-tuning are limited in providing insightful or relevant content.\n",
    "\n",
    "**Use the output from this notebook to fill out the \"model evaluation\" section of the project documentation report**\n",
    "\n",
    "Take a screenshot of this file with the cell output for your project documentation report. Download it with cell output by making sure you used Save on the notebook before downloading \n",
    "\n",
    "**After you've filled out the report, run the cells below to delete the model deployment** \n",
    "\n",
    "`IF YOU FAIL TO RUN THE CELLS BELOW YOU WILL RUN OUT OF BUDGET TO COMPLETE THE PROJECT`"
   ]
  },
  {
   "cell_type": "code",
   "execution_count": 8,
   "metadata": {
    "tags": []
   },
   "outputs": [
    {
     "name": "stdout",
     "output_type": "stream",
     "text": [
      "['__abstractmethods__', '__annotations__', '__class__', '__delattr__', '__dict__', '__dir__', '__doc__', '__eq__', '__format__', '__ge__', '__getattribute__', '__gt__', '__hash__', '__init__', '__init_subclass__', '__le__', '__lt__', '__module__', '__ne__', '__new__', '__reduce__', '__reduce_ex__', '__repr__', '__setattr__', '__sizeof__', '__slots__', '__str__', '__subclasshook__', '__weakref__', '_abc_impl', '_accept', '_content_type', '_context', '_create_request_args', '_delete_endpoint_config', '_endpoint_config_name', '_get_component_name', '_get_endpoint_config_name', '_get_model_monitor_class', '_get_model_names', '_handle_response', '_model_names', 'accept', 'component_name', 'content_type', 'delete_endpoint', 'delete_model', 'delete_predictor', 'deserializer', 'disable_data_capture', 'enable_data_capture', 'endpoint', 'endpoint_context', 'endpoint_name', 'list_monitors', 'list_related_models', 'predict', 'predict_stream', 'sagemaker_session', 'serializer', 'update_data_capture_config', 'update_endpoint', 'update_predictor']\n"
     ]
    }
   ],
   "source": [
    "print(dir(predictor))"
   ]
  },
  {
   "cell_type": "code",
   "execution_count": 11,
   "metadata": {
    "tags": []
   },
   "outputs": [],
   "source": [
    "# Delete the SageMaker endpoint and the attached resources\n",
    "predictor.delete_model()\n",
    "predictor.delete_endpoint()"
   ]
  },
  {
   "cell_type": "markdown",
   "metadata": {},
   "source": [
    "Verify your model endpoint was deleted by visiting the Sagemaker dashboard and choosing `endpoints` under 'Inference' in the left navigation menu.  If you see your endpoint still there, choose the endpoint, and then under \"Actions\" select **Delete**"
   ]
  }
 ],
 "metadata": {
  "kernelspec": {
   "display_name": "conda_tensorflow2_p310",
   "language": "python",
   "name": "conda_tensorflow2_p310"
  },
  "language_info": {
   "codemirror_mode": {
    "name": "ipython",
    "version": 3
   },
   "file_extension": ".py",
   "mimetype": "text/x-python",
   "name": "python",
   "nbconvert_exporter": "python",
   "pygments_lexer": "ipython3",
   "version": "3.10.14"
  }
 },
 "nbformat": 4,
 "nbformat_minor": 4
}
